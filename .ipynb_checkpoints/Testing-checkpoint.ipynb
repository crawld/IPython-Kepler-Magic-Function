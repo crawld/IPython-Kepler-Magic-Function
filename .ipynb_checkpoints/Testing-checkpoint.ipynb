{
 "metadata": {
  "name": "",
  "signature": "sha256:fcab76522da5557737697f916f48a381b511288b1b433f47cb72477bc5479fe3"
 },
 "nbformat": 3,
 "nbformat_minor": 0,
 "worksheets": []
}