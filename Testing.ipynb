{
 "metadata": {
  "kernelspec": {
   "codemirror_mode": {
    "name": "ipython",
    "version": 2
   },
   "display_name": "IPython (Python 2)",
   "language": "python",
   "name": "python2"
  },
  "name": "",
  "signature": "sha256:4981b3b62dedccdaff6f6d02d96336a884e5b8a0727ae50ecbac2550fe57fbd4"
 },
 "nbformat": 3,
 "nbformat_minor": 0,
 "worksheets": [
  {
   "cells": [
    {
     "cell_type": "code",
     "collapsed": false,
     "input": [
      "print(\"Hell\")"
     ],
     "language": "python",
     "metadata": {},
     "outputs": [
      {
       "output_type": "stream",
       "stream": "stdout",
       "text": [
        "Hell\n"
       ]
      }
     ],
     "prompt_number": 1
    },
    {
     "cell_type": "code",
     "collapsed": false,
     "input": [
      "!pwd"
     ],
     "language": "python",
     "metadata": {},
     "outputs": [
      {
       "output_type": "stream",
       "stream": "stdout",
       "text": [
        "/Users/hamid/Desktop/Ipython_kepler_kernel\r\n"
       ]
      }
     ],
     "prompt_number": 1
    },
    {
     "cell_type": "code",
     "collapsed": false,
     "input": [
      "!./kepler.sh -runwf -nogui x 2"
     ],
     "language": "python",
     "metadata": {},
     "outputs": [
      {
       "output_type": "stream",
       "stream": "stdout",
       "text": [
        "/bin/sh: ./kepler.sh: No such file or directory\r\n"
       ]
      }
     ],
     "prompt_number": 2
    },
    {
     "cell_type": "code",
     "collapsed": false,
     "input": [
      "! ~/Applications/Kepler-2.4/Kepler.app/Contents/Resources/Java"
     ],
     "language": "python",
     "metadata": {},
     "outputs": [
      {
       "output_type": "stream",
       "stream": "stdout",
       "text": [
        "/bin/sh: /Users/hamid/Applications/Kepler-2.4/Kepler.app/Contents/Resources/Java: No such file or directory\r\n"
       ]
      }
     ],
     "prompt_number": 3
    },
    {
     "cell_type": "code",
     "collapsed": false,
     "input": [
      "pwd"
     ],
     "language": "python",
     "metadata": {},
     "outputs": [
      {
       "metadata": {},
       "output_type": "pyout",
       "prompt_number": 4,
       "text": [
        "u'/Users/hamid/Desktop/Ipython_kepler_kernel'"
       ]
      }
     ],
     "prompt_number": 4
    },
    {
     "cell_type": "code",
     "collapsed": false,
     "input": [
      "cd ~"
     ],
     "language": "python",
     "metadata": {},
     "outputs": [
      {
       "output_type": "stream",
       "stream": "stdout",
       "text": [
        "/Users/hamid\n"
       ]
      }
     ],
     "prompt_number": 5
    },
    {
     "cell_type": "code",
     "collapsed": false,
     "input": [
      "cd ../.."
     ],
     "language": "python",
     "metadata": {},
     "outputs": [
      {
       "output_type": "stream",
       "stream": "stdout",
       "text": [
        "/\n"
       ]
      }
     ],
     "prompt_number": 6
    },
    {
     "cell_type": "code",
     "collapsed": false,
     "input": [
      "ls -la\n"
     ],
     "language": "python",
     "metadata": {},
     "outputs": [
      {
       "output_type": "stream",
       "stream": "stdout",
       "text": [
        "total 16989\r\n",
        "drwxr-xr-x   34 root  wheel     1224 Sep 25 18:06 \u001b[34m.\u001b[m\u001b[m/\r\n",
        "drwxr-xr-x   34 root  wheel     1224 Sep 25 18:06 \u001b[34m..\u001b[m\u001b[m/\r\n",
        "-rw-rw-r--    1 root  admin    15364 Sep 29 15:04 .DS_Store\r\n",
        "d--x--x--x    8 root  wheel      272 Dec 18  2013 \u001b[34m.DocumentRevisions-V100\u001b[m\u001b[m/\r\n",
        "drwxr-xr-x    2 root  wheel       68 Jun 19  2013 \u001b[34m.PKInstallSandboxManager\u001b[m\u001b[m/\r\n",
        "drwx------    5 root  wheel      170 Jun 19  2013 \u001b[34m.Spotlight-V100\u001b[m\u001b[m/\r\n",
        "d-wx-wx-wt    2 root  wheel       68 Dec 17  2013 \u001b[30m\u001b[42m.Trashes\u001b[m\u001b[m/\r\n",
        "srwxrwxrwx    1 root  wheel        0 Sep 25 18:06 \u001b[32m.dbfseventsd\u001b[m\u001b[m=\r\n",
        "----------    1 root  admin        0 Aug 24  2013 .file\r\n",
        "drwx------  135 root  wheel     4590 Sep 29 15:09 \u001b[34m.fseventsd\u001b[m\u001b[m/\r\n",
        "-rw-------    1 root  wheel   262144 Sep  6 19:08 .hotfiles.btree\r\n",
        "drwxr-xr-x@   2 root  wheel       68 Aug 24  2013 \u001b[34m.vol\u001b[m\u001b[m/\r\n",
        "drwxrwxr-x+  64 root  admin     2176 Sep 25 18:12 \u001b[34mApplications\u001b[m\u001b[m/\r\n",
        "drwxr-xr-x+  64 root  wheel     2176 Jul 11 14:39 \u001b[34mLibrary\u001b[m\u001b[m/\r\n",
        "drwxr-xr-x@   2 root  wheel       68 Aug 24  2013 \u001b[34mNetwork\u001b[m\u001b[m/\r\n",
        "drwxr-xr-x+   4 root  wheel      136 Dec 17  2013 \u001b[34mSystem\u001b[m\u001b[m/\r\n",
        "lrwxr-xr-x    1 root  wheel       49 Dec 17  2013 \u001b[35mUser Information\u001b[m\u001b[m@ -> /Library/Documentation/User Information.localized\r\n",
        "drwxr-xr-x    6 root  admin      204 Apr 24 11:37 \u001b[34mUsers\u001b[m\u001b[m/\r\n",
        "drwxrwxrwt@   3 root  admin      102 Sep 29 14:40 \u001b[30m\u001b[42mVolumes\u001b[m\u001b[m/\r\n",
        "drwxr-xr-x@  39 root  wheel     1326 Jul  3 11:30 \u001b[34mbin\u001b[m\u001b[m/\r\n",
        "drwxrwxr-t@   2 root  admin       68 Aug 24  2013 \u001b[34mcores\u001b[m\u001b[m/\r\n",
        "dr-xr-xr-x    3 root  wheel     4362 Sep 25 18:00 \u001b[34mdev\u001b[m\u001b[m/\r\n",
        "lrwxr-xr-x@   1 root  wheel       11 Dec 17  2013 \u001b[35metc\u001b[m\u001b[m@ -> private/etc\r\n",
        "dr-xr-xr-x    2 root  wheel        1 Sep 25 18:02 \u001b[34mhome\u001b[m\u001b[m/\r\n",
        "-rwxr-xr-x@   1 root  wheel  8394200 Aug 17 19:50 \u001b[31mmach_kernel\u001b[m\u001b[m*\r\n",
        "dr-xr-xr-x    2 root  wheel        1 Sep 25 18:02 \u001b[34mnet\u001b[m\u001b[m/\r\n",
        "drwxr-xr-x    3 root  wheel      102 Nov  3  2013 \u001b[34mopt\u001b[m\u001b[m/\r\n",
        "drwxr-xr-x@   6 root  wheel      204 Dec 17  2013 \u001b[34mprivate\u001b[m\u001b[m/\r\n",
        "drwxr-xr-x@  62 root  wheel     2108 Sep 25 17:59 \u001b[34msbin\u001b[m\u001b[m/\r\n",
        "lrwxr-xr-x@   1 root  wheel       11 Dec 17  2013 \u001b[35mtmp\u001b[m\u001b[m@ -> private/tmp\r\n",
        "drwxr-xr-x@  15 root  wheel      510 Jul 11 14:39 \u001b[34musr\u001b[m\u001b[m/\r\n",
        "lrwxr-xr-x@   1 root  wheel       11 Dec 17  2013 \u001b[35mvar\u001b[m\u001b[m@ -> private/var\r\n"
       ]
      }
     ],
     "prompt_number": 7
    },
    {
     "cell_type": "code",
     "collapsed": false,
     "input": [
      "cd /Applications/Kepler-2.4/Kepler.app/Contents/Resources/Java"
     ],
     "language": "python",
     "metadata": {},
     "outputs": [
      {
       "output_type": "stream",
       "stream": "stdout",
       "text": [
        "/Applications/Kepler-2.4/Kepler.app/Contents/Resources/Java\n"
       ]
      }
     ],
     "prompt_number": 8
    },
    {
     "cell_type": "code",
     "collapsed": false,
     "input": [
      "pwd"
     ],
     "language": "python",
     "metadata": {},
     "outputs": [
      {
       "metadata": {},
       "output_type": "pyout",
       "prompt_number": 9,
       "text": [
        "u'/Applications/Kepler-2.4/Kepler.app/Contents/Resources/Java'"
       ]
      }
     ],
     "prompt_number": 9
    },
    {
     "cell_type": "code",
     "collapsed": false,
     "input": [
      "!./kepler.sh -runwf -nogui x 2"
     ],
     "language": "python",
     "metadata": {},
     "outputs": [
      {
       "output_type": "stream",
       "stream": "stdout",
       "text": [
        "The base dir is /Applications/Kepler-2.4/Kepler.app/Contents/Resources/Java\n",
        "Kepler.run going to run.setMain(org.kepler.Kepler)\n",
        "JVM Memory = 256m 1000m\n",
        "setting dock icon to -Xdock:icon=/Applications/Kepler-2.4/Kepler.app/Contents/Resources/Java/common-2.4.1/resources/icons/kepler-dock-icon.png\n",
        "Set environment variable: PATH = /Library/Frameworks/Python.framework/Versions/3.4/bin:/Library/Frameworks/Python.framework/Versions/3.4/bin:/Users/hamid/anaconda/bin:/usr/bin:/bin:/usr/sbin:/sbin:/usr/local/bin:/opt/X11/bin:/usr/texbin:/Applications/Kepler-2.4/Kepler.app/Contents/Resources/Java/r-2.4.0/lib:/Users/hamid/KeplerData/kepler.modules/common-2.4.1/lib:/Users/hamid/KeplerData/kepler.modules/common-2.4.1/lib/ptolemy/matlab:/Users/hamid/KeplerData/kepler.modules/ptolemy-kepler-2.4.1/lib/ptolemy-lib\n",
        "Set environment variable: R_HOME = /Library/Frameworks/R.framework/Resources\n",
        "     [null] Checking for patches...\n",
        "     [null] Found OS Extension file: /Applications/Kepler-2.4/Kepler.app/Contents/Resources/Java/apple-extensions-2.2.0/module-info/osextension.txt\n",
        "     [null] loading OS extensions for OS  Mac OS X with class org.kepler.osx.KeplerOSXExtension\n",
        "     [null] start of workflow-scheduler-gui module initializing\n",
        "     [null] Kepler Initializing...\n",
        "     [null] INFO  (org.kepler.util.sql.HSQL:_getConnection:654) started HSQL server at jdbc:hsqldb:hsql://localhost:48645/hsqldb;filepath=hsqldb:file:/Users/hamid/.kepler/cache-2.4/cachedata/hsqldb\n",
        "     [null] Unsupported file type or connection not available: file:/Applications/Kepler-2.4/Kepler.app/Contents/Resources/Java/x\n",
        "     [null] Unsupported file type or connection not available: file:/Applications/Kepler-2.4/Kepler.app/Contents/Resources/Java/2\n"
       ]
      }
     ],
     "prompt_number": 10
    },
    {
     "cell_type": "code",
     "collapsed": false,
     "input": [
      "!./kepler.sh -runwf -nogui -NUM1 15 -redirectgui ~/Desktop ~/Desktop/addMod2.kar | tee > ~/Desktop/exe.txt ; cat ~/Desktop/addMod2.MonitorValue.txt"
     ],
     "language": "python",
     "metadata": {},
     "outputs": []
    },
    {
     "cell_type": "code",
     "collapsed": false,
     "input": [],
     "language": "python",
     "metadata": {},
     "outputs": []
    }
   ],
   "metadata": {}
  }
 ]
}