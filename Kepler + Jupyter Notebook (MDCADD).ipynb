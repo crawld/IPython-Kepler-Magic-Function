{
 "cells": [
  {
   "cell_type": "markdown",
   "metadata": {},
   "source": [
    "<br><br><h1 style=\"font-size:4em;text-align: center;color:#000000\">Kepler + Jupyter Notebook</h1><br><br><br>\n",
    "<br><style=\"font-size:2em;text-align: center;color:#000000\">Usecase: Kepler-MDCADD Workflow<br>"
   ]
  },
  {
   "cell_type": "markdown",
   "metadata": {},
   "source": [
    "<br><h1 style=\"font-size:2em;color:#2467C0\">What is Kepler Magic Function ?</h1><br>"
   ]
  },
  {
   "cell_type": "markdown",
   "metadata": {},
   "source": [
    "<div style=\"color:black;font-size:1.25em\">\n",
    "<br>We have designed a Line Magic Function to run Kepler from Jupyter Notebook with a command line style syntax.</br>\n",
    "</div>"
   ]
  },
  {
   "cell_type": "code",
   "execution_count": 7,
   "metadata": {
    "collapsed": false
   },
   "outputs": [],
   "source": [
    "import KeplerMagicFunction"
   ]
  },
  {
   "cell_type": "markdown",
   "metadata": {
    "collapsed": true
   },
   "source": [
    "<br><h1 style=\"font-size:2em;color:#2467C0\">Step 1: Declare location of Kepler on your machine</h1><br>"
   ]
  },
  {
   "cell_type": "code",
   "execution_count": 8,
   "metadata": {
    "collapsed": false
   },
   "outputs": [],
   "source": [
    "%KpConf /Users/spurawat/Kepler_Repository/bioKepler-2017/kepler.modules/kepler.sh"
   ]
  },
  {
   "cell_type": "markdown",
   "metadata": {},
   "source": [
    "<br><h1 style=\"font-size:2em;color:#2467C0\">Step 2: Declare location of the workflow you want to execute</h1><br>"
   ]
  },
  {
   "cell_type": "code",
   "execution_count": 9,
   "metadata": {
    "collapsed": false
   },
   "outputs": [],
   "source": [
    "%WpConf /Users/spurawat/nbcr/rocce-NBCR-Product/MDCADD.xml"
   ]
  },
  {
   "cell_type": "markdown",
   "metadata": {},
   "source": [
    "<br><h1 style=\"font-size:2em;color:#2467C0\">Step 3: Start Kepler from IPython using Kepler Magic Function</h1><br>"
   ]
  },
  {
   "cell_type": "code",
   "execution_count": null,
   "metadata": {
    "collapsed": false
   },
   "outputs": [],
   "source": [
    "%Kepler"
   ]
  },
  {
   "cell_type": "markdown",
   "metadata": {},
   "source": [
    "<br><h1 style=\"font-size:2em;color:#2467C0\">Step 4: Plot out graphs from Kepler execution </h1><br>"
   ]
  },
  {
   "cell_type": "code",
   "execution_count": null,
   "metadata": {
    "collapsed": false
   },
   "outputs": [],
   "source": [
    "graph = '/Users/spurawat/NBCR_Demo_Feb17/IPython-Kepler-Magic-Function/p53_zinc07135644/prod2_total_energy.png' \n",
    "from IPython.display import Image\n",
    "Image(filename=graph) "
   ]
  },
  {
   "cell_type": "markdown",
   "metadata": {},
   "source": [
    "<h1 style=\"font-size:2em;color:#2467C0\"> Step 5: Read output report from Kepler execution </h1>"
   ]
  },
  {
   "cell_type": "code",
   "execution_count": null,
   "metadata": {
    "collapsed": false
   },
   "outputs": [],
   "source": [
    "output = open('MDCADD-Report.txt','r')\n",
    "print(output.read())"
   ]
  },
  {
   "cell_type": "markdown",
   "metadata": {
    "collapsed": false
   },
   "source": [
    "<br><h1> Useful resources for further exploration: </h1>\n",
    "<h1><a href=\"https://kepler-project.org/users/downloads\"> Download Kepler installers </a></h1>\n",
    "<h1><a href=\"https://kepler-project.org/users/documentation\"> Kepler User Documentation </a></h1>\n",
    "<h1><a href=\"http://www.biokepler.org/userguide\"> bioKepler User Guide </a></h1>\n",
    "<h1><a href=\"https://biobigdata.ucsd.edu/\"> Biomedical Big Data Training Collaborative </a></h1>\n",
    "<br>"
   ]
  },
  {
   "cell_type": "markdown",
   "metadata": {},
   "source": [
    "<br><br><h1 style=\"font-size:4em;text-align: center;color:#2467C0\">Thank you</h1><br><br><br>"
   ]
  },
  {
   "cell_type": "code",
   "execution_count": null,
   "metadata": {
    "collapsed": true
   },
   "outputs": [],
   "source": []
  }
 ],
 "metadata": {
  "kernelspec": {
   "display_name": "Python 2",
   "language": "python",
   "name": "python2"
  },
  "language_info": {
   "codemirror_mode": {
    "name": "ipython",
    "version": 2
   },
   "file_extension": ".py",
   "mimetype": "text/x-python",
   "name": "python",
   "nbconvert_exporter": "python",
   "pygments_lexer": "ipython2",
   "version": "2.7.13"
  }
 },
 "nbformat": 4,
 "nbformat_minor": 0
}
